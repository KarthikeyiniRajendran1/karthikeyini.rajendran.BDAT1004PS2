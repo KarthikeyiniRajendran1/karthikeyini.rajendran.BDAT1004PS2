{
 "cells": [
  {
   "cell_type": "code",
   "execution_count": null,
   "id": "1cd07a56",
   "metadata": {},
   "outputs": [],
   "source": [
    "Question 1"
   ]
  },
  {
   "cell_type": "code",
   "execution_count": null,
   "id": "902fe9fe",
   "metadata": {},
   "outputs": [],
   "source": [
    "Consider the following Python module: a = 0 def b(): global a a = c(a) def c(a): return a + 2 After importing the module into the interpreter, you execute:\n",
    "\n",
    "b() b() b() a\n",
    "\n",
    "? What value is displayed when the last expression (a) is evaluated? Explain your answer by indicating what happens in every executed statement"
   ]
  },
  {
   "cell_type": "code",
   "execution_count": 4,
   "id": "b056543d",
   "metadata": {},
   "outputs": [
    {
     "name": "stdout",
     "output_type": "stream",
     "text": [
      "6\n"
     ]
    }
   ],
   "source": [
    "a=0\n",
    "def b():\n",
    "    global a\n",
    "    a=c(a)\n",
    "def c(a):\n",
    "    return a+2\n",
    "b()#calling function b where 2 is added to the global variable a and here a value is 2\n",
    "b()#repeating again the above steps, now a value is 4\n",
    "b()#repeat again and value is 6\n",
    "print(a)"
   ]
  },
  {
   "cell_type": "code",
   "execution_count": null,
   "id": "22741954",
   "metadata": {},
   "outputs": [],
   "source": [
    "QUESTION 2 "
   ]
  },
  {
   "cell_type": "code",
   "execution_count": null,
   "id": "74d16bc2",
   "metadata": {},
   "outputs": [],
   "source": [
    "Function fileLength(), given to you, takes the name of a file as input and returns the length of the file:  >>>  fileLength('midterm.py') 284 >>>  fileLength('idterm.py') Traceback  (most  recent  call  last): File  \"<pyshell#34>\",  line  1,  in  <module> fileLength('idterm.py') File  \"/Users/me/midterm.py\",  line  3,  in  fileLength infile  =  open(filename) FileNotFoundError:  [Errno  2]  No  such  file  or  directory: 'idterm.py'  As shown above, if the file cannot be found by the interpreter or if it cannot be read as a text file, an exception will be raised. Modify function fileLength() so that a friendly message is printed instead:  >>>  fileLength('midterm.py') 358 >>>  fileLength('idterm.py') File  idterm.py  not  found. "
   ]
  },
  {
   "cell_type": "code",
   "execution_count": 7,
   "id": "36bb3348",
   "metadata": {},
   "outputs": [
    {
     "name": "stdout",
     "output_type": "stream",
     "text": [
      "123\n"
     ]
    }
   ],
   "source": [
    "def fileLength(file_name):\n",
    "    try:\n",
    "        with open(file_name,'r') as f:\n",
    "            print(len(f.read()))\n",
    "    except FileNotFoundError:\n",
    "        print('File '+file_name+'is not found.');\n",
    "\n",
    "fileLength('Filelength.txt')"
   ]
  },
  {
   "cell_type": "code",
   "execution_count": 9,
   "id": "fa2e7aaa",
   "metadata": {},
   "outputs": [
    {
     "name": "stdout",
     "output_type": "stream",
     "text": [
      "File midterm.pyis not found.\n"
     ]
    }
   ],
   "source": [
    "fileLength('midterm.py')"
   ]
  },
  {
   "cell_type": "code",
   "execution_count": null,
   "id": "6f29ccf6",
   "metadata": {},
   "outputs": [],
   "source": [
    "QUESTION 3"
   ]
  },
  {
   "cell_type": "code",
   "execution_count": null,
   "id": "7d11d217",
   "metadata": {},
   "outputs": [],
   "source": [
    "Write a class named Marsupial that can be used as shown below:  >>>  m  =  Marsupial() >>>  m.put_in_pouch('doll') >>>  m.put_in_pouch('firetruck') >>>  m.put_in_pouch('kitten') >>>  m.pouch_contents()  ['doll',  'firetruck',  'kitten'] "
   ]
  },
  {
   "cell_type": "code",
   "execution_count": 11,
   "id": "617075c9",
   "metadata": {},
   "outputs": [
    {
     "name": "stdout",
     "output_type": "stream",
     "text": [
      "['doll', 'firetruck', 'kitten']\n"
     ]
    }
   ],
   "source": [
    "class Marsupial:\n",
    "    pouch_list = []\n",
    "    def put_in_pouch(self,name):\n",
    "        self.pouch_list.append(name)\n",
    "        \n",
    "    def pouch_contents(self):\n",
    "        print(self.pouch_list)\n",
    "m = Marsupial()\n",
    "m.put_in_pouch('doll')\n",
    "m.put_in_pouch('firetruck')\n",
    "m.put_in_pouch('kitten')\n",
    "m.pouch_contents()"
   ]
  },
  {
   "cell_type": "code",
   "execution_count": 14,
   "id": "be6b276f",
   "metadata": {},
   "outputs": [
    {
     "name": "stdout",
     "output_type": "stream",
     "text": [
      "I am a Kangaroo located at coordinates (0,0)\n",
      "['doll', 'firetruck', 'kitten']\n",
      "I am a Kangaroo located at coordinates (3,0)\n"
     ]
    }
   ],
   "source": [
    "class Marsupial:\n",
    "    \n",
    "    def __init__(self,x,y):\n",
    "        self.dx=x\n",
    "        self.dy=y\n",
    "    pouch_list=[]\n",
    "    def put_in_pouch(self,name):\n",
    "        self.pouch_list.append(name)\n",
    "        \n",
    "    def pouch_contents(self):\n",
    "        print(self.pouch_list)\n",
    "\n",
    "class Kangaroo(Marsupial):\n",
    "    \n",
    "    def __init__(self,x,y):\n",
    "        Marsupial.__init__(self,x,y)\n",
    "        \n",
    "    def jump(self,x,y):\n",
    "        self.dx=self.dx+x\n",
    "        self.dy=self.dy+y\n",
    "        \n",
    "        \n",
    "    def __str__(self):\n",
    "        return \"I am a Kangaroo located at coordinates (\"+str(self.dx)+\",\"+str(self.dy)+\")\"\n",
    "    \n",
    "k = Kangaroo(0,0)\n",
    "print(k)\n",
    "k.put_in_pouch('doll')\n",
    "k.put_in_pouch('firetruck')\n",
    "k.put_in_pouch('kitten')\n",
    "k.pouch_contents()\n",
    "k.jump(1,0)\n",
    "k.jump(1,0)\n",
    "k.jump(1,0)\n",
    "print(k)"
   ]
  },
  {
   "cell_type": "code",
   "execution_count": null,
   "id": "b054c90e",
   "metadata": {},
   "outputs": [],
   "source": [
    "QUESTION 4"
   ]
  },
  {
   "cell_type": "code",
   "execution_count": null,
   "id": "3594cfb7",
   "metadata": {},
   "outputs": [],
   "source": [
    "Write function collatz() that takes a positive integer x as input and prints the Collatz sequence starting at x. A Collatz sequence is obtained by repeatedly applying this rule to the previous number x in the sequence:  x = {  𝑥/2 𝑖𝑓 𝑥 𝑖𝑠 𝑒𝑣𝑒𝑛 3𝑥 + 1 𝑖𝑓 𝑥 𝑖𝑠 𝑜𝑑𝑑  Your function should stop when the sequence gets to number 1. Your implementation must be recursive, without any loops. "
   ]
  },
  {
   "cell_type": "code",
   "execution_count": 15,
   "id": "e7296fd2",
   "metadata": {},
   "outputs": [],
   "source": [
    "def collatz(X):\n",
    "    if X%2==0:\n",
    "        print(X)\n",
    "        collatz(int(X/2))\n",
    "    elif X==1:\n",
    "        print(X)\n",
    "    else:\n",
    "        print(X)\n",
    "        collatz(X+1)\n",
    "        "
   ]
  },
  {
   "cell_type": "code",
   "execution_count": 16,
   "id": "3243a47c",
   "metadata": {},
   "outputs": [
    {
     "name": "stdout",
     "output_type": "stream",
     "text": [
      "1\n"
     ]
    }
   ],
   "source": [
    "collatz(1)"
   ]
  },
  {
   "cell_type": "code",
   "execution_count": 17,
   "id": "60ce77b6",
   "metadata": {},
   "outputs": [
    {
     "name": "stdout",
     "output_type": "stream",
     "text": [
      "10\n",
      "5\n",
      "6\n",
      "3\n",
      "4\n",
      "2\n",
      "1\n"
     ]
    }
   ],
   "source": [
    "collatz(10)"
   ]
  },
  {
   "cell_type": "code",
   "execution_count": null,
   "id": "3af65970",
   "metadata": {},
   "outputs": [],
   "source": [
    "QUESTION 5 "
   ]
  },
  {
   "cell_type": "code",
   "execution_count": null,
   "id": "6887acf2",
   "metadata": {},
   "outputs": [],
   "source": [
    "Write a recursive method binary() that takes a non-negative integer n and prints the binary representation of integer n.  >>>  binary(0) 0 >>>  binary(1) 1 >>>  binary(3) 11 >>>  binary(9) 1001 "
   ]
  },
  {
   "cell_type": "code",
   "execution_count": 18,
   "id": "117a7f96",
   "metadata": {},
   "outputs": [
    {
     "data": {
      "text/plain": [
       "0"
      ]
     },
     "execution_count": 18,
     "metadata": {},
     "output_type": "execute_result"
    }
   ],
   "source": [
    "def binary(number):\n",
    "    if(number>0):\n",
    "        x=number%2\n",
    "        number=int(number/2)\n",
    "        return int(str(binary(number))+str(x))\n",
    "    else:\n",
    "        return 0\n",
    "\n",
    "    \n",
    "binary(0)"
   ]
  },
  {
   "cell_type": "code",
   "execution_count": 19,
   "id": "b094ab37",
   "metadata": {},
   "outputs": [
    {
     "data": {
      "text/plain": [
       "1"
      ]
     },
     "execution_count": 19,
     "metadata": {},
     "output_type": "execute_result"
    }
   ],
   "source": [
    "binary(1)"
   ]
  },
  {
   "cell_type": "code",
   "execution_count": 20,
   "id": "22582e78",
   "metadata": {},
   "outputs": [
    {
     "data": {
      "text/plain": [
       "11"
      ]
     },
     "execution_count": 20,
     "metadata": {},
     "output_type": "execute_result"
    }
   ],
   "source": [
    "binary(3)"
   ]
  },
  {
   "cell_type": "code",
   "execution_count": 21,
   "id": "644ad595",
   "metadata": {},
   "outputs": [
    {
     "data": {
      "text/plain": [
       "1001"
      ]
     },
     "execution_count": 21,
     "metadata": {},
     "output_type": "execute_result"
    }
   ],
   "source": [
    "binary(9)"
   ]
  },
  {
   "cell_type": "code",
   "execution_count": null,
   "id": "7726c7c4",
   "metadata": {},
   "outputs": [],
   "source": [
    "QUESTION 6"
   ]
  },
  {
   "cell_type": "code",
   "execution_count": null,
   "id": "80d897ca",
   "metadata": {},
   "outputs": [],
   "source": [
    "Implement a class named HeadingParser that can be used to parse an HTML document, and retrieve and print all the headings in the document. You should implement your class as a subclass of HTMLParser, defined in Standard Library module html.parser. When fed a string containing HTML code, your class should print the headings, one per line and in the order in which they appear in the document. Each heading should be indented as follows: an h1 heading should have \n",
    "    indentation 0, and h2 heading should have indentation 1, etc. Test your implementation using w3c.html.  >>>  infile  =  open('w3c.html') >>>  content  =  infile.read() >>>  infile.close() >>>  hp  =  HeadingParser() >>>  hp.feed(content) W3C  Mission Principles "
   ]
  },
  {
   "cell_type": "code",
   "execution_count": 25,
   "id": "2ff57f32",
   "metadata": {},
   "outputs": [],
   "source": [
    "from html.parser import HTMLParser\n",
    "\n",
    "class HeadingParser(HTMLParser):\n",
    "    h1_tag=\"\"\n",
    "    h2_tag=\"\"\n",
    "    \n",
    "    def __init__(self):\n",
    "        HTMLParser.__init__(self)\n",
    "        \n",
    "    def handle_starttag(self,tag,attr):\n",
    "        if tag=='h1':\n",
    "            self.h1_tag=True\n",
    "        elif tag=='h2':\n",
    "            self.h2_tag=True\n",
    "            \n",
    "    def handle_data(self,data):\n",
    "        if self.h1_tag:\n",
    "            print(data)\n",
    "        elif self.h2_tag:\n",
    "            print(\" \"+data)\n",
    "            \n",
    "    def handle_endtag(self,tag):\n",
    "        if tag=='h1':\n",
    "            self.h1_tag=False\n",
    "        elif tag=='h2':\n",
    "            self.h2_tag=False\n",
    "            \n",
    "infile = open('w3c.html')\n",
    "content =infile.read()\n",
    "hp = HeadingParser()\n",
    "hp.feed(content)"
   ]
  },
  {
   "cell_type": "code",
   "execution_count": null,
   "id": "da619b9e",
   "metadata": {},
   "outputs": [],
   "source": [
    "QUESTION 7 "
   ]
  },
  {
   "cell_type": "code",
   "execution_count": null,
   "id": "e2037efb",
   "metadata": {},
   "outputs": [],
   "source": [
    "Implement recursive function webdir() that takes as input: a URL (as a string) and non-negative integers depth and indent. Your function should visit every web page reachable from the starting URL web page in depth clicks or less, and print each web page's URL. As shown below, indentation, specified by indent,  should be used to indicate the depth of a URL.  >>> webdir('http://reed.cs.depaul.edu/lperkovic/csc242/test1.html' ,  2,  0) http://reed.cs.depaul.edu/lperkovic/csc242/test1.html http://reed.cs.depaul.edu/lperkovic/csc242/test2.html http://reed.cs.depaul.edu/lperkovic/csc242/test4.html http://reed.cs.depaul.edu/lperkovic/csc242/test3.html http://reed.cs.depaul.edu/lperkovic/csc242/test4.html "
   ]
  },
  {
   "cell_type": "code",
   "execution_count": 26,
   "id": "3ca46a5f",
   "metadata": {},
   "outputs": [
    {
     "name": "stdout",
     "output_type": "stream",
     "text": [
      "http://reed.cs.depaul.edu/lperkovic/test1.html\n",
      " http://reed.cs.depaul.edu/lperkovic/test2.html\n",
      "  http://reed.cs.depaul.edu/lperkovic/test4.html\n",
      " http://reed.cs.depaul.edu/lperkovic/test3.html\n",
      "  http://reed.cs.depaul.edu/lperkovic/test4.html\n"
     ]
    }
   ],
   "source": [
    "import urllib.request\n",
    "from html.parser import HTMLParser\n",
    "\n",
    "class MyParser(HTMLParser):\n",
    "    def handle_starttag(self, tag, attrs):\n",
    "        if tag=='a':\n",
    "            for attr in attrs:\n",
    "                if attr[0]=='href':\n",
    "                    if attr[1][-4:]=='html':\n",
    "                        if attr[1][:4]=='http':\n",
    "                            webdir(attr[1],1,1)\n",
    "                        elif attr[1][:5]=='test3':\n",
    "                            url='http://reed.cs.depaul.edu/lperkovic/'+attr[1]\n",
    "                            webdir(url,0,1)\n",
    "                        else:\n",
    "                            url='http://reed.cs.depaul.edu/lperkovic/'+attr[1]\n",
    "                            webdir(url,0,2)\n",
    "\n",
    "def webdir(url,depth,indent):\n",
    "    if indent==0:\n",
    "        print(url)\n",
    "    elif indent==1:\n",
    "        print(\" \"+url)\n",
    "    elif indent==2:\n",
    "        print(\"  \"+url)\n",
    "    request = urllib.request.urlopen(url)\n",
    "    html=request.read().decode(\"utf8\")\n",
    "    parser =MyParser()\n",
    "    parser.feed(html)\n",
    "webdir('http://reed.cs.depaul.edu/lperkovic/test1.html',2,0)"
   ]
  },
  {
   "cell_type": "code",
   "execution_count": null,
   "id": "d4e62721",
   "metadata": {},
   "outputs": [],
   "source": [
    "QUESTION 8"
   ]
  },
  {
   "cell_type": "code",
   "execution_count": null,
   "id": "98cd17c8",
   "metadata": {},
   "outputs": [],
   "source": [
    "Write SQL queries on the below database table that return: \n",
    "a) All the temperature data.\n",
    "b) All the cities, but without repetition. \n",
    "c) All the records for India. \n",
    "d) All the Fall records. \n",
    "e) The city, country, and season for which the average rainfall is between 200 and 400 millimeters. \n",
    "f) The city and country for which the average Fall temperature is above 20 degrees, in increasing temperature order.\n",
    "g) The total annual rainfall for Cairo. \n",
    "h) The total rainfall for each season. \n",
    "City Country Season Temperature (C) Rainfall (mm) \n",
    "Mumbai India Winter 24.8 5.9 \n",
    "Mumbai India Spring 28.4 16.2 \n",
    "Mumbai India Summer 27.9 1549.4 \n",
    "Mumbai India Fall 27.6 346.0 \n",
    "London United Kingdom Winter 4.2 207.7 \n",
    "London United Kingdom Spring 8.3 169.6 \n",
    "London United Kingdom Summer 15.7 157.0 \n",
    "London United Kingdom Fall 10.4 218.5 \n",
    "Cairo Egypt Winter 13.6 16.5 \n",
    "Cairo Egypt Spring 20.7 6.5 \n",
    "Cairo Egypt Summer 27.7 0.1 \n",
    "Cairo Egypt Fall 22.2 4.5 \n"
   ]
  },
  {
   "cell_type": "code",
   "execution_count": null,
   "id": "c264bad3",
   "metadata": {},
   "outputs": [],
   "source": [
    "a) All the temperature data.\n",
    "ANS : select * from temperature;"
   ]
  },
  {
   "cell_type": "code",
   "execution_count": null,
   "id": "ea85cb82",
   "metadata": {},
   "outputs": [],
   "source": [
    "b) All the cities, but without repetition.\n",
    "ANS : select city from temperature group by city;"
   ]
  },
  {
   "cell_type": "code",
   "execution_count": null,
   "id": "0d399e50",
   "metadata": {},
   "outputs": [],
   "source": [
    "c) All the records for India.\n",
    "ANS : select * from temperature where Country='India';"
   ]
  },
  {
   "cell_type": "code",
   "execution_count": null,
   "id": "c698c1fe",
   "metadata": {},
   "outputs": [],
   "source": [
    "d) All the Fall records.\n",
    "ANS : select * from temperature where season ='Fall';"
   ]
  },
  {
   "cell_type": "code",
   "execution_count": null,
   "id": "7b42236a",
   "metadata": {},
   "outputs": [],
   "source": [
    "e) The city, country, and season for which the average rainfall is between 200 and 400 millimeters.\n",
    "ANS : select city, country, season from temperature where Rainfall between 200 and 400;"
   ]
  },
  {
   "cell_type": "code",
   "execution_count": null,
   "id": "97b759b8",
   "metadata": {},
   "outputs": [],
   "source": [
    "f) The city and country for which the average Fall temperature is above 20 degrees, in increasing temperature order.\n",
    "ANS : select city,country from temperature where temperature>20 order by temperature asc;"
   ]
  },
  {
   "cell_type": "code",
   "execution_count": null,
   "id": "6d1ea6af",
   "metadata": {},
   "outputs": [],
   "source": [
    "g) The total annual rainfall for Cairo.\n",
    "ANS : select sum(Rainfall) as \"annual rainfall\" from temperature where city='Cairo';"
   ]
  },
  {
   "cell_type": "code",
   "execution_count": null,
   "id": "024b84fa",
   "metadata": {},
   "outputs": [],
   "source": [
    "h) The total rainfall for each season.\n",
    "ANS : select season,sum(Rainfall) as \"annual rainfall\" from temperature group by season;"
   ]
  },
  {
   "cell_type": "code",
   "execution_count": null,
   "id": "744ec200",
   "metadata": {},
   "outputs": [],
   "source": [
    "QUESTION 9"
   ]
  },
  {
   "cell_type": "code",
   "execution_count": null,
   "id": "c46a2272",
   "metadata": {},
   "outputs": [],
   "source": [
    "Suppose list words is defined as follows: >>>  words  =  ['The',  'quick',  'brown',  'fox',  'jumps',  'over', 'the',  'lazy',  'dog'] \n",
    "    Write list comprehension expressions that use list words and generate the following lists: \n",
    "        a) ['THE',  'QUICK',  'BROWN',  'FOX',  'JUMPS',  'OVER',  'THE', 'LAZY',  'DOG'] \n",
    "        b) ['the',  'quick',  'brown',  'fox',  'jumps',  'over',  'the', 'lazy',  'dog'] \n",
    "        c) [3,  5,  5,  3,  5,  4,  3,  4,  3] (the list of lengths of words in list words). \n",
    "        d) [['THE',  'the',  3],  ['QUICK',  'quick',  5],  ['BROWN', 'brown',  5],  ['FOX',  'fox',  3],  ['JUMPS',  'jumps',  5], \n",
    "            ['OVER',  'over',  4],  ['THE',  'the',  3],  ['LAZY',  'lazy', 4],  ['DOG',  'dog',  3]] \n",
    "        (the list containing a list for every word of list words, \n",
    "        where each list contains the word in uppercase and lowercase and the length of the word.) \n",
    "        e) ['The',  'quick',  'brown',  'fox',  'jumps',  'over',  'the', 'lazy',  'dog'] \n",
    "        (the list of words in list words containing 4 or more characters.) "
   ]
  },
  {
   "cell_type": "code",
   "execution_count": null,
   "id": "9c74222f",
   "metadata": {},
   "outputs": [],
   "source": [
    "a) ['THE',  'QUICK',  'BROWN',  'FOX',  'JUMPS',  'OVER',  'THE', 'LAZY',  'DOG'] "
   ]
  },
  {
   "cell_type": "code",
   "execution_count": 28,
   "id": "d34de238",
   "metadata": {},
   "outputs": [
    {
     "name": "stdout",
     "output_type": "stream",
     "text": [
      "['THE', 'QUICK', 'BROWN', 'FOX', 'JUMPS', 'OVER', 'THE', 'LAZY', 'DOG']\n"
     ]
    }
   ],
   "source": [
    "words = ['The', 'quick', 'brown', 'fox', 'jumps', 'over', 'the', 'lazy', 'dog']\n",
    "words_upper=[]\n",
    "for word in words:\n",
    "    words_upper.append(word.upper())\n",
    "print(words_upper)"
   ]
  },
  {
   "cell_type": "code",
   "execution_count": null,
   "id": "0345ef2a",
   "metadata": {},
   "outputs": [],
   "source": [
    "b) ['the',  'quick',  'brown',  'fox',  'jumps',  'over',  'the', 'lazy',  'dog']"
   ]
  },
  {
   "cell_type": "code",
   "execution_count": 29,
   "id": "d969b556",
   "metadata": {},
   "outputs": [
    {
     "name": "stdout",
     "output_type": "stream",
     "text": [
      "['the', 'quick', 'brown', 'fox', 'jumps', 'over', 'the', 'lazy', 'dog']\n"
     ]
    }
   ],
   "source": [
    "words_lower=[]\n",
    "for word in words:\n",
    "    words_lower.append(word.lower())\n",
    "print(words_lower)"
   ]
  },
  {
   "cell_type": "code",
   "execution_count": null,
   "id": "b8b22419",
   "metadata": {},
   "outputs": [],
   "source": [
    "c) [3,  5,  5,  3,  5,  4,  3,  4,  3] (the list of lengths of words in list words)."
   ]
  },
  {
   "cell_type": "code",
   "execution_count": null,
   "id": "fbce8bae",
   "metadata": {},
   "outputs": [],
   "source": [
    "words_length=[]\n",
    "for word in words:\n",
    "    words_length.append(len(word))\n",
    "print(words_length)"
   ]
  },
  {
   "cell_type": "code",
   "execution_count": null,
   "id": "03c81699",
   "metadata": {},
   "outputs": [],
   "source": [
    "d) [['THE',  'the',  3],  ['QUICK',  'quick',  5],  ['BROWN', 'brown',  5],  ['FOX',  'fox',  3],  ['JUMPS',  'jumps',  5], ['OVER',  'over',  4],  ['THE',  'the',  3],  ['LAZY',  'lazy', 4],  ['DOG',  'dog',  3]] (the list containing a list for every word of list words, where each list contains the word in uppercase and lowercase and the length of the word.) "
   ]
  },
  {
   "cell_type": "code",
   "execution_count": 30,
   "id": "2a4f705c",
   "metadata": {},
   "outputs": [
    {
     "name": "stdout",
     "output_type": "stream",
     "text": [
      "['THE', 'the', 3, 'QUICK', 'quick', 5, 'BROWN', 'brown', 5, 'FOX', 'fox', 3, 'JUMPS', 'jumps', 5, 'OVER', 'over', 4, 'THE', 'the', 3, 'LAZY', 'lazy', 4, 'DOG', 'dog', 3]\n"
     ]
    }
   ],
   "source": [
    "word_upper_and_length=[]\n",
    "for word in words:\n",
    "    word_upper_and_length.append(word.upper())\n",
    "    word_upper_and_length.append(word.lower())\n",
    "    word_upper_and_length.append(len(word))\n",
    "print(word_upper_and_length)"
   ]
  },
  {
   "cell_type": "code",
   "execution_count": null,
   "id": "76ac4c0e",
   "metadata": {},
   "outputs": [],
   "source": [
    "e) ['The',  'quick',  'brown',  'fox',  'jumps',  'over',  'the', 'lazy',  'dog'] \n",
    "        (the list of words in list words containing 4 or more characters.)"
   ]
  },
  {
   "cell_type": "code",
   "execution_count": 31,
   "id": "6631dae7",
   "metadata": {},
   "outputs": [
    {
     "name": "stdout",
     "output_type": "stream",
     "text": [
      "['quick', 'brown', 'jumps', 'over', 'lazy']\n"
     ]
    }
   ],
   "source": [
    "words_with_limited_length=[]\n",
    "\n",
    "for word in words:\n",
    "    if len(word)>=4:\n",
    "        words_with_limited_length.append(word.lower())\n",
    "print(words_with_limited_length)"
   ]
  }
 ],
 "metadata": {
  "kernelspec": {
   "display_name": "Python 3 (ipykernel)",
   "language": "python",
   "name": "python3"
  },
  "language_info": {
   "codemirror_mode": {
    "name": "ipython",
    "version": 3
   },
   "file_extension": ".py",
   "mimetype": "text/x-python",
   "name": "python",
   "nbconvert_exporter": "python",
   "pygments_lexer": "ipython3",
   "version": "3.10.9"
  }
 },
 "nbformat": 4,
 "nbformat_minor": 5
}
